{
 "cells": [
  {
   "cell_type": "code",
   "execution_count": 4,
   "id": "7334b64a",
   "metadata": {},
   "outputs": [
    {
     "name": "stdout",
     "output_type": "stream",
     "text": [
      "frontend/src/scenes/example.tsx\n"
     ]
    }
   ],
   "source": [
    "from langchain_openai import ChatOpenAI\n",
    "from pathlib import Path\n",
    "from agents.build_prompt import build_system_prompt_from_dirs_and_yaml\n",
    "from agents.output_models.code_output import CodeOutput\n",
    "\n",
    "\n",
    "context_dirs = [Path(\"frontend/src/scenes\")]\n",
    "yaml_path = Path(\"agents/prompts/coder_general_01.yaml\")\n",
    "system_prompt = build_system_prompt_from_dirs_and_yaml(\n",
    "    context_dirs, yaml_path, CodeOutput\n",
    ")\n",
    "llm = ChatOpenAI(model=\"gpt-4o-mini\", temperature=0)"
   ]
  },
  {
   "cell_type": "code",
   "execution_count": null,
   "id": "c5ea7bde",
   "metadata": {},
   "outputs": [],
   "source": [
    "from logging_config.logger import LOG \n"
   ]
  }
 ],
 "metadata": {
  "kernelspec": {
   "display_name": "motion-canvas-agent",
   "language": "python",
   "name": "python3"
  },
  "language_info": {
   "codemirror_mode": {
    "name": "ipython",
    "version": 3
   },
   "file_extension": ".py",
   "mimetype": "text/x-python",
   "name": "python",
   "nbconvert_exporter": "python",
   "pygments_lexer": "ipython3",
   "version": "3.11.11"
  }
 },
 "nbformat": 4,
 "nbformat_minor": 5
}
