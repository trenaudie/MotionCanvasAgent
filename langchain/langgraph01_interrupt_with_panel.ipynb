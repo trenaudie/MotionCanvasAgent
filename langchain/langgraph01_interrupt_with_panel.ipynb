{
 "cells": [
  {
   "cell_type": "markdown",
   "id": "fd16bf63-e689-45ab-a1f9-417d4c193824",
   "metadata": {},
   "source": [
    "# Langgraph 2: Graph with Interrupt"
   ]
  },
  {
   "cell_type": "code",
   "execution_count": 61,
   "id": "9b3c41e3-a3e4-4790-9686-3585a8a85c2a",
   "metadata": {},
   "outputs": [],
   "source": [
    "#########  LangGraph  ##########################\n",
    "from langgraph.graph import StateGraph, END\n",
    "from langgraph.prebuilt import ToolNode, tools_condition\n",
    "from langgraph.checkpoint.memory import MemorySaver\n",
    "from langgraph.graph.message import add_messages\n",
    "\n",
    "import panel as pn\n",
    "from typing import TypedDict, Annotated, List, Sequence\n",
    "from IPython.display import display, Markdown,Latex,Image"
   ]
  },
  {
   "cell_type": "markdown",
   "id": "5a1386c3-35d6-46c0-9995-6868e5b52c12",
   "metadata": {},
   "source": [
    "# Graph with interrupt\n",
    "\n",
    "https://towardsdatascience.com/from-basics-to-advanced-exploring-langgraph-e8c1cf4db787\n",
    "\n",
    "https://langchain-ai.github.io/langgraph/concepts/human_in_the_loop/"
   ]
  },
  {
   "cell_type": "markdown",
   "id": "f67fca2d-9908-4019-b154-4c0def9a9687",
   "metadata": {},
   "source": [
    "This code defines a simple graph-based flow using nodes, states, and transitions between them, with each node performing a specific task in sequence. Here's a breakdown of the code:\n",
    "\n",
    "### 1. **State Definition**\n",
    "\n",
    "   ```python\n",
    "   class State(TypedDict):\n",
    "       input: str\n",
    "       messages: Annotated[list, add_messages]\n",
    "   ```\n",
    "   - `State` is a custom data structure using `TypedDict` to define the types of state properties.\n",
    "   - It has two fields:\n",
    "     - `input`: a string input, likely used for carrying initial data.\n",
    "     - `messages`: a list of messages, annotated for additional behavior, presumably where the flow can accumulate or modify output messages as it progresses through nodes.\n",
    "\n",
    "### 2. **Node Functions**\n",
    "\n",
    "   - Each node function (`node1`, `node2`, `node3`) modifies the `state` and then returns it. Each function performs the following:\n",
    "\n",
    "     - **`node1`**: Starts by printing \"Start node1\" and sets `state[\"messages\"]` to `[\"Output node1: I wanna go home\"]`.\n",
    "     - **`node2`**: Starts by printing \"Start node2\" and sets `state[\"messages\"]` to `[\"Output node2: What's the problem with node1?\"]`.\n",
    "     - **`node3`**: Starts by printing \"Start node3\" and sets `state[\"messages\"]` to `[\"node3: I am going home\"]`.\n",
    "\n",
    "   - Each node is designed to sequentially alter `state[\"messages\"]` with a unique message.\n",
    "\n",
    "### 3. **StateGraph Creation**\n",
    "\n",
    "   ```python\n",
    "   builder = StateGraph(State)\n",
    "   builder.add_node(\"node1\", node1)\n",
    "   builder.add_node(\"node2\", node2)\n",
    "   builder.add_node(\"node3\", node3)\n",
    "   builder.set_entry_point(\"node1\")\n",
    "   ```\n",
    "   - `StateGraph` is initialized with the `State` structure, which defines the state format that each node will manipulate.\n",
    "   - Nodes `node1`, `node2`, and `node3` are added to the graph with corresponding functions.\n",
    "   - `set_entry_point(\"node1\")` designates `node1` as the starting point of the graph.\n",
    "\n",
    "### 4. **Defining the Flow (Edges)**\n",
    "\n",
    "   ```python\n",
    "   builder.add_edge(\"node1\", \"node2\")\n",
    "   builder.add_edge(\"node2\", \"node3\")\n",
    "   builder.add_edge(\"node3\", END)\n",
    "   ```\n",
    "   - These edges define the sequence in which nodes execute:\n",
    "     - After `node1`, the flow proceeds to `node2`.\n",
    "     - After `node2`, it moves to `node3`.\n",
    "     - After `node3`, the process ends (`END`).\n",
    "\n",
    "### 5. **Memory Setup and Graph Compilation**\n",
    "\n",
    "   ```python\n",
    "   memory = MemorySaver()\n",
    "   graph = builder.compile(checkpointer=memory, interrupt_before=[\"node3\"])\n",
    "   ```\n",
    "   - `MemorySaver()` is set up to track the state across the nodes, storing each step in memory.\n",
    "   - `interrupt_before=[\"node3\"]` indicates an interruption before `node3` executes, perhaps to review or change the state.\n",
    "\n",
    "### 6. **Visualization of the Graph**\n",
    "\n",
    "   ```python\n",
    "   display(Image(graph.get_graph().draw_mermaid_png()))\n",
    "   ```\n",
    "   - Finally, the code generates and displays a graphical representation of the flow using `Mermaid` notation. Each node and edge of the graph will be displayed, showing how the flow progresses from `node1` to `node2` to `node3`.\n",
    "\n",
    "### Summary\n",
    "\n",
    "This code builds a simple stateful flow where:\n",
    "- **Each node** changes the `state[\"messages\"]`.\n",
    "- **Flow** goes from `node1` ➔ `node2` ➔ `node3`.\n",
    "- **Memory and interruption** allow state tracking and intervention before the final node.\n",
    "- **Graph visualization** shows the flow for easier comprehension and debugging. \n",
    "\n",
    "This setup can be particularly useful in chatbot flows, decision trees, or automated process orchestration scenarios where states change sequentially through nodes."
   ]
  },
  {
   "cell_type": "code",
   "execution_count": 80,
   "id": "6df1f2f9-f003-49a0-b534-0b188f1484d5",
   "metadata": {},
   "outputs": [
    {
     "data": {
      "image/png": "[encoded data removed]",
      "text/plain": [
       "<IPython.core.display.Image object>"
      ]
     },
     "metadata": {},
     "output_type": "display_data"
    }
   ],
   "source": [
    "from langgraph.types import interrupt, Command\n",
    "from langchain_core.messages import HumanMessage\n",
    "\n",
    "class State(TypedDict):\n",
    "    input: str\n",
    "    messages: Annotated[list, add_messages]\n",
    "\n",
    "\n",
    "def node1(state:State):\n",
    "    latest_message = state[\"messages\"][-1] if state[\"messages\"] else \"No messages\"\n",
    "    print(f\"Start node1 with latest message: {latest_message}\")\n",
    "    return {'messages' : \"Here is some code\" }\n",
    "\n",
    "\n",
    "def node2(state:State):\n",
    "    latest_message = state[\"messages\"][-1] if state[\"messages\"] else \"No messages\"\n",
    "    print(f\"Start node2 with latest message: {latest_message}\")\n",
    "    return {'messages' : \"here is some more code\" }\n",
    "\n",
    "\n",
    "def node3(state:State):\n",
    "    latest_message = state[\"messages\"][-1] if state[\"messages\"] else \"No messages\"\n",
    "    print(f\"Start node3 with latest message: {latest_message}\")\n",
    "    state[\"messages\"]=[\"node3: I am going home\"]\n",
    "    return state \n",
    "\n",
    "\n",
    "builder = StateGraph(State)\n",
    "builder.add_node(\"node1\", node1)\n",
    "builder.set_entry_point(\"node1\")\n",
    "builder.add_node(\"node2\", node2)\n",
    "builder.add_edge(\"node1\", \"node2\")\n",
    "\n",
    "def human_node(state: State):\n",
    "    value = interrupt( \n",
    "        {\n",
    "            \"messages\": \"human node: this is the interrupt message\",\n",
    "        }\n",
    "    )\n",
    "    return {\n",
    "        \"messages\": \"human_node: this is the human response\" \n",
    "    }\n",
    "def node4(state: State):\n",
    "    return Command(update = {\"messages\": [HumanMessage(content='node 4')  ]}, )\n",
    "builder.add_node(\"human_node\", human_node)\n",
    "builder.add_edge(\"node2\", \"human_node\")\n",
    "builder.add_node(\"node3\", node3)\n",
    "builder.add_edge(\"human_node\", \"node3\")\n",
    "builder.add_node(\"node4\", node4)\n",
    "builder.add_edge(\"node3\", \"node4\")\n",
    "builder.add_edge(\"node4\", END)\n",
    "# Set up memory\n",
    "memory = MemorySaver()\n",
    "\n",
    "# Add\n",
    "graph = builder.compile(checkpointer=memory)\n",
    "\n",
    "# View\n",
    "display(Image(graph.get_graph().draw_mermaid_png()))"
   ]
  },
  {
   "cell_type": "code",
   "execution_count": 81,
   "id": "ba201d1f",
   "metadata": {},
   "outputs": [
    {
     "name": "stdout",
     "output_type": "stream",
     "text": [
      "Launching server at http://localhost:40739\n"
     ]
    },
    {
     "data": {
      "text/plain": [
       "<panel.io.server.Server at 0x7ca4f23d10d0>"
      ]
     },
     "execution_count": 81,
     "metadata": {},
     "output_type": "execute_result"
    }
   ],
   "source": [
    "from logging_config.logger import LOG\n",
    "from langgraph.types import Command, interrupt\n",
    "thread = {\"configurable\": {\"thread_id\": \"3\"}}  \n",
    "def input_function(question:str, thread : dict = thread):\n",
    "    input = {\"input\": question}\n",
    "    out=[]\n",
    "    current_state = graph.get_state(thread).values\n",
    "    LOG.info(f\"Current state before invoking graph: {current_state}\")\n",
    "    graph.update_state(thread,current_state)\n",
    "    response = graph.invoke(input, thread )\n",
    "    if response[\"messages\"]:\n",
    "        out.append(response[\"messages\"][-1].content)\n",
    "    # for state in graph.stream(input, thread, stream_mode=\"values\"):\n",
    "    #     out.append(state[\"messages\"][-1].content)  \n",
    "    LOG.info(f'Response from input function: {response}')\n",
    "    answer=\"Graph : \"+ \"\\n\".join(out)\n",
    "    print(\"Input_function : \\n\",answer)\n",
    "    print('------')\n",
    "    return answer\n",
    "from langchain_core.messages import HumanMessage  # Make sure this is imported\n",
    "\n",
    "def resume_function(human_response: str, thread: dict = thread):\n",
    "    # Wrap the user response in a HumanMessage as expected by LangGraph\n",
    "    human_message = HumanMessage(content=human_response)\n",
    "    \n",
    "    # Create a resumable command with the message\n",
    "    human_command = Command(resume={\"messages\": [human_message]})\n",
    "    \n",
    "    # Invoke the graph with the resumable input\n",
    "    response = graph.invoke(human_command, thread)\n",
    "    \n",
    "    out = []\n",
    "    if response[\"messages\"]:\n",
    "        out.append(response[\"messages\"][-1].content)\n",
    "    \n",
    "    LOG.info(f'Response from resume function: {response}')\n",
    "    answer = \"Graph after resume: \" + \"\\n\".join(out)\n",
    "    print(\"Resume_function : \\n\", answer)\n",
    "    print('------')\n",
    "    return answer\n",
    "\n",
    "        \n",
    "memory = MemorySaver()\n",
    "graph = builder.compile(checkpointer=memory)\n",
    "question = pn.widgets.TextInput(name=\"Input here please\", placeholder=\"Task\", sizing_mode=\"stretch_width\")\n",
    "output = pn.pane.Markdown(\"Answer\")  # This will display the answer text\n",
    "question = pn.widgets.TextInput(name=\"Input here please\", placeholder=\"Task\", sizing_mode=\"stretch_width\")\n",
    "output = pn.pane.Markdown(\"Answer\")\n",
    "answer_button = pn.widgets.Button(name=\"Answer\", button_type=\"primary\", width=50, height=50)\n",
    "\n",
    "\n",
    "\n",
    "def button_click(event):\n",
    "    print(f'number of clicks: {answer_button.clicks}')\n",
    "    if answer_button.clicks == 1:\n",
    "        bound_function = pn.bind(input_function, question)\n",
    "        output.object = f\"Answer:\\n {bound_function()}\"\n",
    "    if answer_button.clicks > 1:\n",
    "        bound_function = pn.bind(resume_function, question)\n",
    "        output.object = f\"Answer after resume:\\n {bound_function()}\"\n",
    "\n",
    "answer_button.on_click(button_click)\n",
    "\n",
    "Tab = pn.Column(\n",
    "    pn.Row(question),\n",
    "    pn.panel(answer_button, loading_indicator=True, height=50),\n",
    "    pn.layout.Divider(),\n",
    "    pn.panel(output, loading_indicator=True, height=900),\n",
    "    sizing_mode=\"stretch_width\"\n",
    ")\n",
    "\n",
    "layout = pn.Column(pn.Tabs(('Answer', Tab)))\n",
    "layout.show()\n"
   ]
  },
  {
   "cell_type": "code",
   "execution_count": 82,
   "id": "752003be",
   "metadata": {},
   "outputs": [
    {
     "name": "stderr",
     "output_type": "stream",
     "text": [
      "/tmp/ipykernel_1113509/4286671404.py:6: UserWarning: Using Panel interactively in VSCode notebooks requires the jupyter_bokeh package to be installed. You can install it with:\n",
      "\n",
      "   pip install jupyter_bokeh\n",
      "\n",
      "or:\n",
      "    conda install jupyter_bokeh\n",
      "\n",
      "and try again.\n",
      "  pn.extension()\n"
     ]
    },
    {
     "data": {
      "text/html": [
       "<script type=\"esms-options\">{\"shimMode\": true}</script><style>*[data-root-id],\n",
       "*[data-root-id] > * {\n",
       "  box-sizing: border-box;\n",
       "  font-family: var(--jp-ui-font-family);\n",
       "  font-size: var(--jp-ui-font-size1);\n",
       "  color: var(--vscode-editor-foreground, var(--jp-ui-font-color1));\n",
       "}\n",
       "\n",
       "/* Override VSCode background color */\n",
       ".cell-output-ipywidget-background:has(\n",
       "  > .cell-output-ipywidget-background > .lm-Widget > *[data-root-id]\n",
       "),\n",
       ".cell-output-ipywidget-background:has(> .lm-Widget > *[data-root-id]) {\n",
       "  background-color: transparent !important;\n",
       "}\n",
       "</style>"
      ]
     },
     "metadata": {},
     "output_type": "display_data"
    },
    {
     "data": {
      "application/javascript": "(function(root) {\n  function now() {\n    return new Date();\n  }\n\n  const force = true;\n  const py_version = '3.7.3'.replace('rc', '-rc.').replace('.dev', '-dev.');\n  const reloading = false;\n  const Bokeh = root.Bokeh;\n\n  // Set a timeout for this load but only if we are not already initializing\n  if (typeof (root._bokeh_timeout) === \"undefined\" || (force || !root._bokeh_is_initializing)) {\n    root._bokeh_timeout = Date.now() + 5000;\n    root._bokeh_failed_load = false;\n  }\n\n  function run_callbacks() {\n    try {\n      root._bokeh_onload_callbacks.forEach(function(callback) {\n        if (callback != null)\n          callback();\n      });\n    } finally {\n      delete root._bokeh_onload_callbacks;\n    }\n    console.debug(\"Bokeh: all callbacks have finished\");\n  }\n\n  function load_libs(css_urls, js_urls, js_modules, js_exports, callback) {\n    if (css_urls == null) css_urls = [];\n    if (js_urls == null) js_urls = [];\n    if (js_modules == null) js_modules = [];\n    if (js_exports == null) js_exports = {};\n\n    root._bokeh_onload_callbacks.push(callback);\n\n    if (root._bokeh_is_loading > 0) {\n      // Don't load bokeh if it is still initializing\n      console.debug(\"Bokeh: BokehJS is being loaded, scheduling callback at\", now());\n      return null;\n    } else if (js_urls.length === 0 && js_modules.length === 0 && Object.keys(js_exports).length === 0) {\n      // There is nothing to load\n      run_callbacks();\n      return null;\n    }\n\n    function on_load() {\n      root._bokeh_is_loading--;\n      if (root._bokeh_is_loading === 0) {\n        console.debug(\"Bokeh: all BokehJS libraries/stylesheets loaded\");\n        run_callbacks()\n      }\n    }\n    window._bokeh_on_load = on_load\n\n    function on_error(e) {\n      const src_el = e.srcElement\n      console.error(\"failed to load \" + (src_el.href || src_el.src));\n    }\n\n    const skip = [];\n    if (window.requirejs) {\n      window.requirejs.config({'packages': {}, 'paths': {}, 'shim': {}});\n      root._bokeh_is_loading = css_urls.length + 0;\n    } else {\n      root._bokeh_is_loading = css_urls.length + js_urls.length + js_modules.length + Object.keys(js_exports).length;\n    }\n\n    const existing_stylesheets = []\n    const links = document.getElementsByTagName('link')\n    for (let i = 0; i < links.length; i++) {\n      const link = links[i]\n      if (link.href != null) {\n        existing_stylesheets.push(link.href)\n      }\n    }\n    for (let i = 0; i < css_urls.length; i++) {\n      const url = css_urls[i];\n      const escaped = encodeURI(url)\n      if (existing_stylesheets.indexOf(escaped) !== -1) {\n        on_load()\n        continue;\n      }\n      const element = document.createElement(\"link\");\n      element.onload = on_load;\n      element.onerror = on_error;\n      element.rel = \"stylesheet\";\n      element.type = \"text/css\";\n      element.href = url;\n      console.debug(\"Bokeh: injecting link tag for BokehJS stylesheet: \", url);\n      document.body.appendChild(element);\n    }    var existing_scripts = []\n    const scripts = document.getElementsByTagName('script')\n    for (let i = 0; i < scripts.length; i++) {\n      var script = scripts[i]\n      if (script.src != null) {\n        existing_scripts.push(script.src)\n      }\n    }\n    for (let i = 0; i < js_urls.length; i++) {\n      const url = js_urls[i];\n      const escaped = encodeURI(url)\n      if (skip.indexOf(escaped) !== -1 || existing_scripts.indexOf(escaped) !== -1) {\n        if (!window.requirejs) {\n          on_load();\n        }\n        continue;\n      }\n      const element = document.createElement('script');\n      element.onload = on_load;\n      element.onerror = on_error;\n      element.async = false;\n      element.src = url;\n      console.debug(\"Bokeh: injecting script tag for BokehJS library: \", url);\n      document.head.appendChild(element);\n    }\n    for (let i = 0; i < js_modules.length; i++) {\n      const url = js_modules[i];\n      const escaped = encodeURI(url)\n      if (skip.indexOf(escaped) !== -1 || existing_scripts.indexOf(escaped) !== -1) {\n        if (!window.requirejs) {\n          on_load();\n        }\n        continue;\n      }\n      var element = document.createElement('script');\n      element.onload = on_load;\n      element.onerror = on_error;\n      element.async = false;\n      element.src = url;\n      element.type = \"module\";\n      console.debug(\"Bokeh: injecting script tag for BokehJS library: \", url);\n      document.head.appendChild(element);\n    }\n    for (const name in js_exports) {\n      const url = js_exports[name];\n      const escaped = encodeURI(url)\n      if (skip.indexOf(escaped) >= 0 || root[name] != null) {\n        if (!window.requirejs) {\n          on_load();\n        }\n        continue;\n      }\n      var element = document.createElement('script');\n      element.onerror = on_error;\n      element.async = false;\n      element.type = \"module\";\n      console.debug(\"Bokeh: injecting script tag for BokehJS library: \", url);\n      element.textContent = `\n      import ${name} from \"${url}\"\n      window.${name} = ${name}\n      window._bokeh_on_load()\n      `\n      document.head.appendChild(element);\n    }\n    if (!js_urls.length && !js_modules.length) {\n      on_load()\n    }\n  };\n\n  function inject_raw_css(css) {\n    const element = document.createElement(\"style\");\n    element.appendChild(document.createTextNode(css));\n    document.body.appendChild(element);\n  }\n\n  const js_urls = [\"https://cdn.holoviz.org/panel/1.7.4/dist/bundled/reactiveesm/es-module-shims@^1.10.0/dist/es-module-shims.min.js\", \"https://cdn.bokeh.org/bokeh/release/bokeh-3.7.3.min.js\", \"https://cdn.bokeh.org/bokeh/release/bokeh-gl-3.7.3.min.js\", \"https://cdn.bokeh.org/bokeh/release/bokeh-widgets-3.7.3.min.js\", \"https://cdn.bokeh.org/bokeh/release/bokeh-tables-3.7.3.min.js\", \"https://cdn.holoviz.org/panel/1.7.4/dist/panel.min.js\"];\n  const js_modules = [];\n  const js_exports = {};\n  const css_urls = [];\n  const inline_js = [    function(Bokeh) {\n      Bokeh.set_log_level(\"info\");\n    },\nfunction(Bokeh) {} // ensure no trailing comma for IE\n  ];\n\n  function run_inline_js() {\n    if ((root.Bokeh !== undefined) || (force === true)) {\n      for (let i = 0; i < inline_js.length; i++) {\n        try {\n          inline_js[i].call(root, root.Bokeh);\n        } catch(e) {\n          if (!reloading) {\n            throw e;\n          }\n        }\n      }\n      // Cache old bokeh versions\n      if (Bokeh != undefined && !reloading) {\n        var NewBokeh = root.Bokeh;\n        if (Bokeh.versions === undefined) {\n          Bokeh.versions = new Map();\n        }\n        if (NewBokeh.version !== Bokeh.version) {\n          Bokeh.versions.set(NewBokeh.version, NewBokeh)\n        }\n        root.Bokeh = Bokeh;\n      }\n    } else if (Date.now() < root._bokeh_timeout) {\n      setTimeout(run_inline_js, 100);\n    } else if (!root._bokeh_failed_load) {\n      console.log(\"Bokeh: BokehJS failed to load within specified timeout.\");\n      root._bokeh_failed_load = true;\n    }\n    root._bokeh_is_initializing = false\n  }\n\n  function load_or_wait() {\n    // Implement a backoff loop that tries to ensure we do not load multiple\n    // versions of Bokeh and its dependencies at the same time.\n    // In recent versions we use the root._bokeh_is_initializing flag\n    // to determine whether there is an ongoing attempt to initialize\n    // bokeh, however for backward compatibility we also try to ensure\n    // that we do not start loading a newer (Panel>=1.0 and Bokeh>3) version\n    // before older versions are fully initialized.\n    if (root._bokeh_is_initializing && Date.now() > root._bokeh_timeout) {\n      // If the timeout and bokeh was not successfully loaded we reset\n      // everything and try loading again\n      root._bokeh_timeout = Date.now() + 5000;\n      root._bokeh_is_initializing = false;\n      root._bokeh_onload_callbacks = undefined;\n      root._bokeh_is_loading = 0\n      console.log(\"Bokeh: BokehJS was loaded multiple times but one version failed to initialize.\");\n      load_or_wait();\n    } else if (root._bokeh_is_initializing || (typeof root._bokeh_is_initializing === \"undefined\" && root._bokeh_onload_callbacks !== undefined)) {\n      setTimeout(load_or_wait, 100);\n    } else {\n      root._bokeh_is_initializing = true\n      root._bokeh_onload_callbacks = []\n      const bokeh_loaded = root.Bokeh != null && (root.Bokeh.version === py_version || (root.Bokeh.versions !== undefined && root.Bokeh.versions.has(py_version)));\n      if (!reloading && !bokeh_loaded) {\n        if (root.Bokeh) {\n          root.Bokeh = undefined;\n        }\n        console.debug(\"Bokeh: BokehJS not loaded, scheduling load and callback at\", now());\n      }\n      load_libs(css_urls, js_urls, js_modules, js_exports, function() {\n        console.debug(\"Bokeh: BokehJS plotting callback run at\", now());\n        run_inline_js();\n      });\n    }\n  }\n  // Give older versions of the autoload script a head-start to ensure\n  // they initialize before we start loading newer version.\n  setTimeout(load_or_wait, 100)\n}(window));",
      "application/vnd.holoviews_load.v0+json": ""
     },
     "metadata": {},
     "output_type": "display_data"
    },
    {
     "data": {
      "application/javascript": "\nif ((window.PyViz === undefined) || (window.PyViz instanceof HTMLElement)) {\n  window.PyViz = {comms: {}, comm_status:{}, kernels:{}, receivers: {}, plot_index: []}\n}\n\n\n    function JupyterCommManager() {\n    }\n\n    JupyterCommManager.prototype.register_target = function(plot_id, comm_id, msg_handler) {\n      if (window.comm_manager || ((window.Jupyter !== undefined) && (Jupyter.notebook.kernel != null))) {\n        var comm_manager = window.comm_manager || Jupyter.notebook.kernel.comm_manager;\n        comm_manager.register_target(comm_id, function(comm) {\n          comm.on_msg(msg_handler);\n        });\n      } else if ((plot_id in window.PyViz.kernels) && (window.PyViz.kernels[plot_id])) {\n        window.PyViz.kernels[plot_id].registerCommTarget(comm_id, function(comm) {\n          comm.onMsg = msg_handler;\n        });\n      } else if (typeof google != 'undefined' && google.colab.kernel != null) {\n        google.colab.kernel.comms.registerTarget(comm_id, (comm) => {\n          var messages = comm.messages[Symbol.asyncIterator]();\n          function processIteratorResult(result) {\n            var message = result.value;\n            var content = {data: message.data, comm_id};\n            var buffers = []\n            for (var buffer of message.buffers || []) {\n              buffers.push(new DataView(buffer))\n            }\n            var metadata = message.metadata || {};\n            var msg = {content, buffers, metadata}\n            msg_handler(msg);\n            return messages.next().then(processIteratorResult);\n          }\n          return messages.next().then(processIteratorResult);\n        })\n      }\n    }\n\n    JupyterCommManager.prototype.get_client_comm = function(plot_id, comm_id, msg_handler) {\n      if (comm_id in window.PyViz.comms) {\n        return window.PyViz.comms[comm_id];\n      } else if (window.comm_manager || ((window.Jupyter !== undefined) && (Jupyter.notebook.kernel != null))) {\n        var comm_manager = window.comm_manager || Jupyter.notebook.kernel.comm_manager;\n        var comm = comm_manager.new_comm(comm_id, {}, {}, {}, comm_id);\n        if (msg_handler) {\n          comm.on_msg(msg_handler);\n        }\n      } else if ((plot_id in window.PyViz.kernels) && (window.PyViz.kernels[plot_id])) {\n        var comm = window.PyViz.kernels[plot_id].connectToComm(comm_id);\n        let retries = 0;\n        const open = () => {\n          if (comm.active) {\n            comm.open();\n          } else if (retries > 3) {\n            console.warn('Comm target never activated')\n          } else {\n            retries += 1\n            setTimeout(open, 500)\n          }\n        }\n        if (comm.active) {\n          comm.open();\n        } else {\n          setTimeout(open, 500)\n        }\n        if (msg_handler) {\n          comm.onMsg = msg_handler;\n        }\n      } else if (typeof google != 'undefined' && google.colab.kernel != null) {\n        var comm_promise = google.colab.kernel.comms.open(comm_id)\n        comm_promise.then((comm) => {\n          window.PyViz.comms[comm_id] = comm;\n          if (msg_handler) {\n            var messages = comm.messages[Symbol.asyncIterator]();\n            function processIteratorResult(result) {\n              var message = result.value;\n              var content = {data: message.data};\n              var metadata = message.metadata || {comm_id};\n              var msg = {content, metadata}\n              msg_handler(msg);\n              return messages.next().then(processIteratorResult);\n            }\n            return messages.next().then(processIteratorResult);\n          }\n        })\n        var sendClosure = (data, metadata, buffers, disposeOnDone) => {\n          return comm_promise.then((comm) => {\n            comm.send(data, metadata, buffers, disposeOnDone);\n          });\n        };\n        var comm = {\n          send: sendClosure\n        };\n      }\n      window.PyViz.comms[comm_id] = comm;\n      return comm;\n    }\n    window.PyViz.comm_manager = new JupyterCommManager();\n    \n\n\nvar JS_MIME_TYPE = 'application/javascript';\nvar HTML_MIME_TYPE = 'text/html';\nvar EXEC_MIME_TYPE = 'application/vnd.holoviews_exec.v0+json';\nvar CLASS_NAME = 'output';\n\n/**\n * Render data to the DOM node\n */\nfunction render(props, node) {\n  var div = document.createElement(\"div\");\n  var script = document.createElement(\"script\");\n  node.appendChild(div);\n  node.appendChild(script);\n}\n\n/**\n * Handle when a new output is added\n */\nfunction handle_add_output(event, handle) {\n  var output_area = handle.output_area;\n  var output = handle.output;\n  if ((output.data == undefined) || (!output.data.hasOwnProperty(EXEC_MIME_TYPE))) {\n    return\n  }\n  var id = output.metadata[EXEC_MIME_TYPE][\"id\"];\n  var toinsert = output_area.element.find(\".\" + CLASS_NAME.split(' ')[0]);\n  if (id !== undefined) {\n    var nchildren = toinsert.length;\n    var html_node = toinsert[nchildren-1].children[0];\n    html_node.innerHTML = output.data[HTML_MIME_TYPE];\n    var scripts = [];\n    var nodelist = html_node.querySelectorAll(\"script\");\n    for (var i in nodelist) {\n      if (nodelist.hasOwnProperty(i)) {\n        scripts.push(nodelist[i])\n      }\n    }\n\n    scripts.forEach( function (oldScript) {\n      var newScript = document.createElement(\"script\");\n      var attrs = [];\n      var nodemap = oldScript.attributes;\n      for (var j in nodemap) {\n        if (nodemap.hasOwnProperty(j)) {\n          attrs.push(nodemap[j])\n        }\n      }\n      attrs.forEach(function(attr) { newScript.setAttribute(attr.name, attr.value) });\n      newScript.appendChild(document.createTextNode(oldScript.innerHTML));\n      oldScript.parentNode.replaceChild(newScript, oldScript);\n    });\n    if (JS_MIME_TYPE in output.data) {\n      toinsert[nchildren-1].children[1].textContent = output.data[JS_MIME_TYPE];\n    }\n    output_area._hv_plot_id = id;\n    if ((window.Bokeh !== undefined) && (id in Bokeh.index)) {\n      window.PyViz.plot_index[id] = Bokeh.index[id];\n    } else {\n      window.PyViz.plot_index[id] = null;\n    }\n  } else if (output.metadata[EXEC_MIME_TYPE][\"server_id\"] !== undefined) {\n    var bk_div = document.createElement(\"div\");\n    bk_div.innerHTML = output.data[HTML_MIME_TYPE];\n    var script_attrs = bk_div.children[0].attributes;\n    for (var i = 0; i < script_attrs.length; i++) {\n      toinsert[toinsert.length - 1].childNodes[1].setAttribute(script_attrs[i].name, script_attrs[i].value);\n    }\n    // store reference to server id on output_area\n    output_area._bokeh_server_id = output.metadata[EXEC_MIME_TYPE][\"server_id\"];\n  }\n}\n\n/**\n * Handle when an output is cleared or removed\n */\nfunction handle_clear_output(event, handle) {\n  var id = handle.cell.output_area._hv_plot_id;\n  var server_id = handle.cell.output_area._bokeh_server_id;\n  if (((id === undefined) || !(id in PyViz.plot_index)) && (server_id !== undefined)) { return; }\n  var comm = window.PyViz.comm_manager.get_client_comm(\"hv-extension-comm\", \"hv-extension-comm\", function () {});\n  if (server_id !== null) {\n    comm.send({event_type: 'server_delete', 'id': server_id});\n    return;\n  } else if (comm !== null) {\n    comm.send({event_type: 'delete', 'id': id});\n  }\n  delete PyViz.plot_index[id];\n  if ((window.Bokeh !== undefined) & (id in window.Bokeh.index)) {\n    var doc = window.Bokeh.index[id].model.document\n    doc.clear();\n    const i = window.Bokeh.documents.indexOf(doc);\n    if (i > -1) {\n      window.Bokeh.documents.splice(i, 1);\n    }\n  }\n}\n\n/**\n * Handle kernel restart event\n */\nfunction handle_kernel_cleanup(event, handle) {\n  delete PyViz.comms[\"hv-extension-comm\"];\n  window.PyViz.plot_index = {}\n}\n\n/**\n * Handle update_display_data messages\n */\nfunction handle_update_output(event, handle) {\n  handle_clear_output(event, {cell: {output_area: handle.output_area}})\n  handle_add_output(event, handle)\n}\n\nfunction register_renderer(events, OutputArea) {\n  function append_mime(data, metadata, element) {\n    // create a DOM node to render to\n    var toinsert = this.create_output_subarea(\n    metadata,\n    CLASS_NAME,\n    EXEC_MIME_TYPE\n    );\n    this.keyboard_manager.register_events(toinsert);\n    // Render to node\n    var props = {data: data, metadata: metadata[EXEC_MIME_TYPE]};\n    render(props, toinsert[0]);\n    element.append(toinsert);\n    return toinsert\n  }\n\n  events.on('output_added.OutputArea', handle_add_output);\n  events.on('output_updated.OutputArea', handle_update_output);\n  events.on('clear_output.CodeCell', handle_clear_output);\n  events.on('delete.Cell', handle_clear_output);\n  events.on('kernel_ready.Kernel', handle_kernel_cleanup);\n\n  OutputArea.prototype.register_mime_type(EXEC_MIME_TYPE, append_mime, {\n    safe: true,\n    index: 0\n  });\n}\n\nif (window.Jupyter !== undefined) {\n  try {\n    var events = require('base/js/events');\n    var OutputArea = require('notebook/js/outputarea').OutputArea;\n    if (OutputArea.prototype.mime_types().indexOf(EXEC_MIME_TYPE) == -1) {\n      register_renderer(events, OutputArea);\n    }\n  } catch(err) {\n  }\n}\n",
      "application/vnd.holoviews_load.v0+json": ""
     },
     "metadata": {},
     "output_type": "display_data"
    },
    {
     "data": {
      "application/vnd.holoviews_exec.v0+json": "",
      "text/html": [
       "<div id='e97f08f2-8944-4f0a-b6b3-eb51d15dbe04'>\n",
       "  <div id=\"f047483c-a48b-4bf9-a239-8508a1970538\" data-root-id=\"e97f08f2-8944-4f0a-b6b3-eb51d15dbe04\" style=\"display: contents;\"></div>\n",
       "</div>\n",
       "<script type=\"application/javascript\">(function(root) {\n",
       "  var docs_json = {\"e9c81871-9137-48d4-846a-20eb502b8e9a\":{\"version\":\"3.7.3\",\"title\":\"Bokeh Application\",\"roots\":[{\"type\":\"object\",\"name\":\"panel.models.browser.BrowserInfo\",\"id\":\"e97f08f2-8944-4f0a-b6b3-eb51d15dbe04\"},{\"type\":\"object\",\"name\":\"panel.models.comm_manager.CommManager\",\"id\":\"a22ec51a-aa19-4895-b294-853fe6f59b1c\",\"attributes\":{\"plot_id\":\"e97f08f2-8944-4f0a-b6b3-eb51d15dbe04\",\"comm_id\":\"ab2488cd110f48278bde903775a08cb3\",\"client_comm_id\":\"536e2935d9414236b1887a2802e27243\"}}],\"defs\":[{\"type\":\"model\",\"name\":\"ReactiveHTML1\"},{\"type\":\"model\",\"name\":\"FlexBox1\",\"properties\":[{\"name\":\"align_content\",\"kind\":\"Any\",\"default\":\"flex-start\"},{\"name\":\"align_items\",\"kind\":\"Any\",\"default\":\"flex-start\"},{\"name\":\"flex_direction\",\"kind\":\"Any\",\"default\":\"row\"},{\"name\":\"flex_wrap\",\"kind\":\"Any\",\"default\":\"wrap\"},{\"name\":\"gap\",\"kind\":\"Any\",\"default\":\"\"},{\"name\":\"justify_content\",\"kind\":\"Any\",\"default\":\"flex-start\"}]},{\"type\":\"model\",\"name\":\"FloatPanel1\",\"properties\":[{\"name\":\"config\",\"kind\":\"Any\",\"default\":{\"type\":\"map\"}},{\"name\":\"contained\",\"kind\":\"Any\",\"default\":true},{\"name\":\"position\",\"kind\":\"Any\",\"default\":\"right-top\"},{\"name\":\"offsetx\",\"kind\":\"Any\",\"default\":null},{\"name\":\"offsety\",\"kind\":\"Any\",\"default\":null},{\"name\":\"theme\",\"kind\":\"Any\",\"default\":\"primary\"},{\"name\":\"status\",\"kind\":\"Any\",\"default\":\"normalized\"}]},{\"type\":\"model\",\"name\":\"GridStack1\",\"properties\":[{\"name\":\"ncols\",\"kind\":\"Any\",\"default\":null},{\"name\":\"nrows\",\"kind\":\"Any\",\"default\":null},{\"name\":\"allow_resize\",\"kind\":\"Any\",\"default\":true},{\"name\":\"allow_drag\",\"kind\":\"Any\",\"default\":true},{\"name\":\"state\",\"kind\":\"Any\",\"default\":[]}]},{\"type\":\"model\",\"name\":\"drag1\",\"properties\":[{\"name\":\"slider_width\",\"kind\":\"Any\",\"default\":5},{\"name\":\"slider_color\",\"kind\":\"Any\",\"default\":\"black\"},{\"name\":\"value\",\"kind\":\"Any\",\"default\":50}]},{\"type\":\"model\",\"name\":\"click1\",\"properties\":[{\"name\":\"terminal_output\",\"kind\":\"Any\",\"default\":\"\"},{\"name\":\"debug_name\",\"kind\":\"Any\",\"default\":\"\"},{\"name\":\"clears\",\"kind\":\"Any\",\"default\":0}]},{\"type\":\"model\",\"name\":\"ReactiveESM1\",\"properties\":[{\"name\":\"esm_constants\",\"kind\":\"Any\",\"default\":{\"type\":\"map\"}}]},{\"type\":\"model\",\"name\":\"JSComponent1\",\"properties\":[{\"name\":\"esm_constants\",\"kind\":\"Any\",\"default\":{\"type\":\"map\"}}]},{\"type\":\"model\",\"name\":\"ReactComponent1\",\"properties\":[{\"name\":\"use_shadow_dom\",\"kind\":\"Any\",\"default\":true},{\"name\":\"esm_constants\",\"kind\":\"Any\",\"default\":{\"type\":\"map\"}}]},{\"type\":\"model\",\"name\":\"AnyWidgetComponent1\",\"properties\":[{\"name\":\"use_shadow_dom\",\"kind\":\"Any\",\"default\":true},{\"name\":\"esm_constants\",\"kind\":\"Any\",\"default\":{\"type\":\"map\"}}]},{\"type\":\"model\",\"name\":\"FastWrapper1\",\"properties\":[{\"name\":\"object\",\"kind\":\"Any\",\"default\":null},{\"name\":\"style\",\"kind\":\"Any\",\"default\":null}]},{\"type\":\"model\",\"name\":\"NotificationArea1\",\"properties\":[{\"name\":\"js_events\",\"kind\":\"Any\",\"default\":{\"type\":\"map\"}},{\"name\":\"max_notifications\",\"kind\":\"Any\",\"default\":5},{\"name\":\"notifications\",\"kind\":\"Any\",\"default\":[]},{\"name\":\"position\",\"kind\":\"Any\",\"default\":\"bottom-right\"},{\"name\":\"_clear\",\"kind\":\"Any\",\"default\":0},{\"name\":\"types\",\"kind\":\"Any\",\"default\":[{\"type\":\"map\",\"entries\":[[\"type\",\"warning\"],[\"background\",\"#ffc107\"],[\"icon\",{\"type\":\"map\",\"entries\":[[\"className\",\"fas fa-exclamation-triangle\"],[\"tagName\",\"i\"],[\"color\",\"white\"]]}]]},{\"type\":\"map\",\"entries\":[[\"type\",\"info\"],[\"background\",\"#007bff\"],[\"icon\",{\"type\":\"map\",\"entries\":[[\"className\",\"fas fa-info-circle\"],[\"tagName\",\"i\"],[\"color\",\"white\"]]}]]}]}]},{\"type\":\"model\",\"name\":\"Notification\",\"properties\":[{\"name\":\"background\",\"kind\":\"Any\",\"default\":null},{\"name\":\"duration\",\"kind\":\"Any\",\"default\":3000},{\"name\":\"icon\",\"kind\":\"Any\",\"default\":null},{\"name\":\"message\",\"kind\":\"Any\",\"default\":\"\"},{\"name\":\"notification_type\",\"kind\":\"Any\",\"default\":null},{\"name\":\"_rendered\",\"kind\":\"Any\",\"default\":false},{\"name\":\"_destroyed\",\"kind\":\"Any\",\"default\":false}]},{\"type\":\"model\",\"name\":\"TemplateActions1\",\"properties\":[{\"name\":\"open_modal\",\"kind\":\"Any\",\"default\":0},{\"name\":\"close_modal\",\"kind\":\"Any\",\"default\":0}]},{\"type\":\"model\",\"name\":\"BootstrapTemplateActions1\",\"properties\":[{\"name\":\"open_modal\",\"kind\":\"Any\",\"default\":0},{\"name\":\"close_modal\",\"kind\":\"Any\",\"default\":0}]},{\"type\":\"model\",\"name\":\"TemplateEditor1\",\"properties\":[{\"name\":\"layout\",\"kind\":\"Any\",\"default\":[]}]},{\"type\":\"model\",\"name\":\"MaterialTemplateActions1\",\"properties\":[{\"name\":\"open_modal\",\"kind\":\"Any\",\"default\":0},{\"name\":\"close_modal\",\"kind\":\"Any\",\"default\":0}]},{\"type\":\"model\",\"name\":\"request_value1\",\"properties\":[{\"name\":\"fill\",\"kind\":\"Any\",\"default\":\"none\"},{\"name\":\"_synced\",\"kind\":\"Any\",\"default\":null},{\"name\":\"_request_sync\",\"kind\":\"Any\",\"default\":0}]}]}};\n",
       "  var render_items = [{\"docid\":\"e9c81871-9137-48d4-846a-20eb502b8e9a\",\"roots\":{\"e97f08f2-8944-4f0a-b6b3-eb51d15dbe04\":\"f047483c-a48b-4bf9-a239-8508a1970538\"},\"root_ids\":[\"e97f08f2-8944-4f0a-b6b3-eb51d15dbe04\"]}];\n",
       "  var docs = Object.values(docs_json)\n",
       "  if (!docs) {\n",
       "    return\n",
       "  }\n",
       "  const py_version = docs[0].version.replace('rc', '-rc.').replace('.dev', '-dev.')\n",
       "  async function embed_document(root) {\n",
       "    var Bokeh = get_bokeh(root)\n",
       "    await Bokeh.embed.embed_items_notebook(docs_json, render_items);\n",
       "    for (const render_item of render_items) {\n",
       "      for (const root_id of render_item.root_ids) {\n",
       "\tconst id_el = document.getElementById(root_id)\n",
       "\tif (id_el.children.length && id_el.children[0].hasAttribute('data-root-id')) {\n",
       "\t  const root_el = id_el.children[0]\n",
       "\t  root_el.id = root_el.id + '-rendered'\n",
       "\t  for (const child of root_el.children) {\n",
       "            // Ensure JupyterLab does not capture keyboard shortcuts\n",
       "            // see: https://jupyterlab.readthedocs.io/en/4.1.x/extension/notebook.html#keyboard-interaction-model\n",
       "\t    child.setAttribute('data-lm-suppress-shortcuts', 'true')\n",
       "\t  }\n",
       "\t}\n",
       "      }\n",
       "    }\n",
       "  }\n",
       "  function get_bokeh(root) {\n",
       "    if (root.Bokeh === undefined) {\n",
       "      return null\n",
       "    } else if (root.Bokeh.version !== py_version) {\n",
       "      if (root.Bokeh.versions === undefined || !root.Bokeh.versions.has(py_version)) {\n",
       "\treturn null\n",
       "      }\n",
       "      return root.Bokeh.versions.get(py_version);\n",
       "    } else if (root.Bokeh.version === py_version) {\n",
       "      return root.Bokeh\n",
       "    }\n",
       "    return null\n",
       "  }\n",
       "  function is_loaded(root) {\n",
       "    var Bokeh = get_bokeh(root)\n",
       "    return (Bokeh != null && Bokeh.Panel !== undefined)\n",
       "  }\n",
       "  if (is_loaded(root)) {\n",
       "    embed_document(root);\n",
       "  } else {\n",
       "    var attempts = 0;\n",
       "    var timer = setInterval(function(root) {\n",
       "      if (is_loaded(root)) {\n",
       "        clearInterval(timer);\n",
       "        embed_document(root);\n",
       "      } else if (document.readyState == \"complete\") {\n",
       "        attempts++;\n",
       "        if (attempts > 200) {\n",
       "          clearInterval(timer);\n",
       "\t  var Bokeh = get_bokeh(root)\n",
       "\t  if (Bokeh == null || Bokeh.Panel == null) {\n",
       "            console.warn(\"Panel: ERROR: Unable to run Panel code because Bokeh or Panel library is missing\");\n",
       "\t  } else {\n",
       "\t    console.warn(\"Panel: WARNING: Attempting to render but not all required libraries could be resolved.\")\n",
       "\t    embed_document(root)\n",
       "\t  }\n",
       "        }\n",
       "      }\n",
       "    }, 25, root)\n",
       "  }\n",
       "})(window);</script>"
      ]
     },
     "metadata": {
      "application/vnd.holoviews_exec.v0+json": {
       "id": "e97f08f2-8944-4f0a-b6b3-eb51d15dbe04"
      }
     },
     "output_type": "display_data"
    },
    {
     "name": "stdout",
     "output_type": "stream",
     "text": [
      "Launching server at http://localhost:36303\n"
     ]
    },
    {
     "data": {
      "text/plain": [
       "<panel.io.server.Server at 0x7ca4f18a5a10>"
      ]
     },
     "execution_count": 82,
     "metadata": {},
     "output_type": "execute_result"
    }
   ],
   "source": [
    "from logging_config.logger import LOG\n",
    "from langgraph.types import Command\n",
    "from langchain_core.messages import HumanMessage\n",
    "import panel as pn\n",
    "\n",
    "pn.extension()\n",
    "\n",
    "# Thread ID for conversation continuity\n",
    "thread = {\"configurable\": {\"thread_id\": \"3\"}}\n",
    "\n",
    "# --- Input function: first interaction ---\n",
    "def input_function(question: str, thread: dict = thread):\n",
    "    # Wrap the user question in a HumanMessage\n",
    "    input_data = {\"messages\": [HumanMessage(content=question)]}\n",
    "    out = []\n",
    "\n",
    "    current_state = graph.get_state(thread).values\n",
    "    LOG.info(f\"Current state before invoking graph: {current_state}\")\n",
    "    graph.update_state(thread, current_state)\n",
    "\n",
    "    # Invoke the graph\n",
    "    response = graph.invoke(input_data, thread)\n",
    "    if response[\"messages\"]:\n",
    "        out.append(response[\"messages\"][-1].content)\n",
    "\n",
    "    LOG.info(f'Response from input function: {response}')\n",
    "    answer = \"Graph: \" + \"\\n\".join(out)\n",
    "    print(\"Input_function : \\n\", answer)\n",
    "    print('------')\n",
    "    return answer\n",
    "\n",
    "\n",
    "# --- Resume function: handling human replies to interrupt ---\n",
    "def resume_function(human_response: str, thread: dict = thread):\n",
    "    # Wrap response as HumanMessage and resume\n",
    "    human_message = HumanMessage(content=human_response)\n",
    "    human_command = Command(resume={\"messages\": [human_message]})\n",
    "\n",
    "    response = graph.invoke(human_command, thread)\n",
    "    out = []\n",
    "    if response[\"messages\"]:\n",
    "        out.append(response[\"messages\"][-1].content)\n",
    "\n",
    "    LOG.info(f'Response from resume function: {response}')\n",
    "    answer = \"Graph after resume: \" + \"\\n\".join(out)\n",
    "    print(\"Resume_function : \\n\", answer)\n",
    "    print('------')\n",
    "    return answer\n",
    "\n",
    "\n",
    "# --- Setup LangGraph ---\n",
    "memory = MemorySaver()\n",
    "graph = builder.compile(checkpointer=memory)\n",
    "\n",
    "# --- Panel UI Widgets ---\n",
    "question = pn.widgets.TextInput(name=\"Input here please\", placeholder=\"Task\", sizing_mode=\"stretch_width\")\n",
    "output = pn.pane.Markdown(\"Answer\")\n",
    "answer_button = pn.widgets.Button(name=\"Answer\", button_type=\"primary\", width=50, height=50)\n",
    "\n",
    "\n",
    "# --- Button click handler ---\n",
    "def button_click(event):\n",
    "    print(f'number of clicks: {answer_button.clicks}')\n",
    "    if answer_button.clicks == 1:\n",
    "        bound_function = pn.bind(input_function, question)\n",
    "        output.object = f\"Answer:\\n {bound_function()}\"\n",
    "    if answer_button.clicks > 1:\n",
    "        bound_function = pn.bind(resume_function, question)\n",
    "        output.object = f\"Answer after resume:\\n {bound_function()}\"\n",
    "\n",
    "\n",
    "# --- Attach click logic ---\n",
    "answer_button.on_click(button_click)\n",
    "\n",
    "# --- UI Layout ---\n",
    "Tab = pn.Column(\n",
    "    pn.Row(question),\n",
    "    pn.panel(answer_button, loading_indicator=True, height=50),\n",
    "    pn.layout.Divider(),\n",
    "    pn.panel(output, loading_indicator=True, height=900),\n",
    "    sizing_mode=\"stretch_width\"\n",
    ")\n",
    "\n",
    "layout = pn.Column(pn.Tabs(('Answer', Tab)))\n",
    "layout.show()\n"
   ]
  },
  {
   "cell_type": "markdown",
   "id": "56dca94e",
   "metadata": {},
   "source": [
    "WATCHOUT \n",
    "if the input is :\n",
    "- input : my_input_str, then it is not added to the State messages \n",
    "- messages : my_message_str, then it IS added to the State messages\n"
   ]
  },
  {
   "cell_type": "code",
   "execution_count": 83,
   "id": "09ef2b7a",
   "metadata": {},
   "outputs": [
    {
     "data": {
      "text/plain": [
       "[]"
      ]
     },
     "execution_count": 83,
     "metadata": {},
     "output_type": "execute_result"
    }
   ],
   "source": [
    "memory.storage\n",
    "all_thread_ids = list(memory.storage.keys())\n",
    "all_thread_ids"
   ]
  },
  {
   "cell_type": "code",
   "execution_count": 84,
   "id": "138fdac0",
   "metadata": {},
   "outputs": [
    {
     "data": {
      "text/plain": [
       "{}"
      ]
     },
     "execution_count": 84,
     "metadata": {},
     "output_type": "execute_result"
    }
   ],
   "source": [
    "memory = MemorySaver()\n",
    "graph2= builder.compile(checkpointer=memory)\n",
    "thread2 = {\"configurable\": {\"thread_id\": \"8\"}}  # Ensure thread ID is set\n",
    "current_state = graph2.get_state(thread2).values\n",
    "current_state"
   ]
  },
  {
   "cell_type": "code",
   "execution_count": 85,
   "id": "ef9856bf",
   "metadata": {},
   "outputs": [
    {
     "name": "stdout",
     "output_type": "stream",
     "text": [
      "Start node1 with latest message: content='yo' additional_kwargs={} response_metadata={} id='a2fbcb8c-aafd-4511-8e4c-2e4879fabe64'\n",
      "Start node2 with latest message: content='Here is some code' additional_kwargs={} response_metadata={} id='6a36a245-46ce-4ce7-b1ba-7c2644dfc7dd'\n"
     ]
    },
    {
     "data": {
      "text/plain": [
       "{'messages': [HumanMessage(content='yo', additional_kwargs={}, response_metadata={}, id='a2fbcb8c-aafd-4511-8e4c-2e4879fabe64'),\n",
       "  HumanMessage(content='Here is some code', additional_kwargs={}, response_metadata={}, id='6a36a245-46ce-4ce7-b1ba-7c2644dfc7dd'),\n",
       "  HumanMessage(content='here is some more code', additional_kwargs={}, response_metadata={}, id='30f26f10-9402-469c-855d-36ea93170ed8'),\n",
       "  HumanMessage(content='yo 2 ', additional_kwargs={}, response_metadata={}, id='e4a054ea-5851-4278-b455-5bc1457574f2')],\n",
       " '__interrupt__': [Interrupt(value={'messages': 'human node: this is the interrupt message'}, resumable=True, ns=['human_node:38c5394f-2a83-bc6a-dba1-dd4d432cc71b'])]}"
      ]
     },
     "execution_count": 85,
     "metadata": {},
     "output_type": "execute_result"
    }
   ],
   "source": [
    "response = graph2.invoke({\"messages\": \"yo\"}, thread2)\n",
    "response2 = graph2.invoke(Command(update={\"messages\": [HumanMessage(content='yo 2 ')]}), thread2)\n",
    "response2"
   ]
  },
  {
   "cell_type": "code",
   "execution_count": 86,
   "id": "3f3dfd3e",
   "metadata": {},
   "outputs": [
    {
     "name": "stdout",
     "output_type": "stream",
     "text": [
      "Start node3 with latest message: content='human_node: this is the human response' additional_kwargs={} response_metadata={} id='b7130acf-1f79-4e53-b789-35581593c767'\n"
     ]
    },
    {
     "data": {
      "text/plain": [
       "{'messages': [HumanMessage(content='yo', additional_kwargs={}, response_metadata={}, id='a2fbcb8c-aafd-4511-8e4c-2e4879fabe64'),\n",
       "  HumanMessage(content='Here is some code', additional_kwargs={}, response_metadata={}, id='6a36a245-46ce-4ce7-b1ba-7c2644dfc7dd'),\n",
       "  HumanMessage(content='here is some more code', additional_kwargs={}, response_metadata={}, id='30f26f10-9402-469c-855d-36ea93170ed8'),\n",
       "  HumanMessage(content='yo 2 ', additional_kwargs={}, response_metadata={}, id='bb092b8c-3c8a-407e-9ea6-e1d008ccb27e'),\n",
       "  HumanMessage(content='yo 3 update', additional_kwargs={}, response_metadata={}, id='2bb88793-6f06-4302-b358-d494e59043ea'),\n",
       "  HumanMessage(content='human_node: this is the human response', additional_kwargs={}, response_metadata={}, id='b7130acf-1f79-4e53-b789-35581593c767'),\n",
       "  HumanMessage(content='node3: I am going home', additional_kwargs={}, response_metadata={}, id='0b303150-dc57-426b-ab78-e0325df70f65'),\n",
       "  HumanMessage(content='node 4', additional_kwargs={}, response_metadata={}, id='2518bf12-811f-4c8e-b13c-c2dadb4f98c1')]}"
      ]
     },
     "execution_count": 86,
     "metadata": {},
     "output_type": "execute_result"
    }
   ],
   "source": [
    "response3 = graph2.invoke(Command(resume={\"messages\": \"yo 3 resume\"}, update = {\"messages\": [HumanMessage(content='yo 3 update')]}, ), thread2)\n",
    "response3"
   ]
  },
  {
   "cell_type": "code",
   "execution_count": 74,
   "id": "8be17bb2",
   "metadata": {},
   "outputs": [
    {
     "data": {
      "text/plain": [
       "{'messages': [HumanMessage(content='yo', additional_kwargs={}, response_metadata={}, id='743af125-50f9-4bc9-b709-25127d910d1f'),\n",
       "  HumanMessage(content='Here is some code', additional_kwargs={}, response_metadata={}, id='6be81664-8ec6-4cb7-afb0-a1d908088eb0'),\n",
       "  HumanMessage(content='here is some more code', additional_kwargs={}, response_metadata={}, id='4c32f2ea-c289-46f8-b8e8-dcd5e7e609fa'),\n",
       "  HumanMessage(content='yo 2 ', additional_kwargs={}, response_metadata={}, id='4a0f91fd-5b6b-45ee-a2f3-74ec4b49cbfe'),\n",
       "  HumanMessage(content='human_node: this is the human response', additional_kwargs={}, response_metadata={}, id='fce1d7d6-e022-4c33-95e0-df6b96b43da7'),\n",
       "  HumanMessage(content='node3: I am going home', additional_kwargs={}, response_metadata={}, id='3801f030-6d66-4309-a18d-558753ea1bcb'),\n",
       "  HumanMessage(content='node 4', additional_kwargs={}, response_metadata={}, id='0819461b-404c-4fde-8bd5-997736500e4a')]}"
      ]
     },
     "execution_count": 74,
     "metadata": {},
     "output_type": "execute_result"
    }
   ],
   "source": [
    "response3"
   ]
  },
  {
   "cell_type": "code",
   "execution_count": null,
   "id": "f234f6c5",
   "metadata": {},
   "outputs": [],
   "source": []
  }
 ],
 "metadata": {
  "kernelspec": {
   "display_name": "motion-canvas-agent",
   "language": "python",
   "name": "python3"
  },
  "language_info": {
   "codemirror_mode": {
    "name": "ipython",
    "version": 3
   },
   "file_extension": ".py",
   "mimetype": "text/x-python",
   "name": "python",
   "nbconvert_exporter": "python",
   "pygments_lexer": "ipython3",
   "version": "3.11.11"
  }
 },
 "nbformat": 4,
 "nbformat_minor": 5
}
